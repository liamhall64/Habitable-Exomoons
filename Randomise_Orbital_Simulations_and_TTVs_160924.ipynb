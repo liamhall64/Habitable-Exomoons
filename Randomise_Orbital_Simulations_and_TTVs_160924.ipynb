{
  "nbformat": 4,
  "nbformat_minor": 0,
  "metadata": {
    "colab": {
      "provenance": [],
      "authorship_tag": "ABX9TyN2UK+BFfqXEn6ovfptSXYK",
      "include_colab_link": true
    },
    "kernelspec": {
      "name": "python3",
      "display_name": "Python 3"
    },
    "language_info": {
      "name": "python"
    }
  },
  "cells": [
    {
      "cell_type": "markdown",
      "metadata": {
        "id": "view-in-github",
        "colab_type": "text"
      },
      "source": [
        "<a href=\"https://colab.research.google.com/github/liamhall64/Habitable-Exomoons/blob/main/Randomise_Orbital_Simulations_and_TTVs_160924.ipynb\" target=\"_parent\"><img src=\"https://colab.research.google.com/assets/colab-badge.svg\" alt=\"Open In Colab\"/></a>"
      ]
    },
    {
      "cell_type": "code",
      "source": [
        "from scipy.optimize import minimize\n",
        "import numpy as np\n",
        "import matplotlib.pyplot as plt\n",
        "from astropy import units as u\n",
        "from astropy import constants as const"
      ],
      "metadata": {
        "id": "KwuYBf-Zo52b"
      },
      "execution_count": 1,
      "outputs": []
    },
    {
      "cell_type": "markdown",
      "source": [
        "#Orbital Simulations\n",
        "######Using a Monte Carlo (repeating a function $N$ amount of times) and randomising the angle at which a moon is observed around a planet - known as realisation."
      ],
      "metadata": {
        "id": "tHbOcCqi-Aty"
      }
    },
    {
      "cell_type": "code",
      "source": [
        "def barycentre(Mp, Mm, dpm, moon_period):\n",
        "  dp = dpm/(1+(Mp/Mm)) # DIST BARYCENTRE TO PLANET\n",
        "  dm = dpm/(1+(Mm/Mp)) # DIST BARYCENTRE TO MOON\n",
        "  print(f'Planet-barycentre distance = {dp:.3f}\\nMoon-barycentre distance = {dm:.3f}')\n",
        "  return(dp, dm)"
      ],
      "metadata": {
        "id": "PKcdXW1N-QKu"
      },
      "execution_count": 45,
      "outputs": []
    },
    {
      "cell_type": "code",
      "source": [
        "# PARAMETERS\n",
        "Mp = 1*const.M_earth\n",
        "Mm = 0.0123*const.M_earth\n",
        "dpm = 0.3844e9*u.m\n",
        "moon_period = 27.322*u.day\n",
        "P = 1*u.year\n",
        "P = P.to(u.day)\n",
        "\n",
        "dp, dm = barycentre(Mp, Mm, dpm, moon_period)"
      ],
      "metadata": {
        "colab": {
          "base_uri": "https://localhost:8080/"
        },
        "id": "1aCQBvXuAfgW",
        "outputId": "15575293-6643-497c-a9aa-db69bab2a974"
      },
      "execution_count": 46,
      "outputs": [
        {
          "output_type": "stream",
          "name": "stdout",
          "text": [
            "Planet-barycentre distance = 4670670.750 m\n",
            "Moon-barycentre distance = 379729329.250 m\n"
          ]
        }
      ]
    },
    {
      "cell_type": "code",
      "source": [
        "t = np.linspace(0, 2*P, 1000)\n",
        "\n",
        "N = 2 # NUMBER OF ANGLES\n",
        "\n",
        "angle = []\n",
        "def position(N):\n",
        "  for i in range(N):\n",
        "    angle.append(np.random.uniform(0, 2*np.pi)*u.rad)\n",
        "    #print(f\"Start angle #{i+1} = {angle[i]:.3f}\") # IF WE WANT TO PRINT THE LIST OF ALL STARTING ANGLES OF 'N' REALISATIONS\n",
        "\n",
        "    # BARYCENTRE\n",
        "    ab = 1*const.au # SEPARATION\n",
        "    Pb = P.to(u.s)  # PERIOD\n",
        "    wb = (2*np.pi/Pb) *u.rad # ANGULAR FREQ\n",
        "    alphab = wb*t\n",
        "    xb = ab*np.sin(alphab)\n",
        "\n",
        "    # PLANET\n",
        "    wp = 2*np.pi/moon_period *u.rad\n",
        "    alphap = wp*t + angle[i]\n",
        "    xp = dp * np.sin(alphap) + xb\n",
        "\n",
        "    # MOON\n",
        "    wm = 2*np.pi/moon_period *u.rad\n",
        "    alpham = wm*t + np.pi*u.rad + angle[i]\n",
        "    xm = dm*np.sin(alpham) + xb\n",
        "\n",
        "    '''\n",
        "    plt.figure(figsize=(17, 6))\n",
        "    plt.subplot(2, 2, 1)\n",
        "    plt.plot(t/P, xb/ab.to(u.m), label = f'Barycentre')\n",
        "    plt.plot(t/P, xp/ab.to(u.m), label = f'Planet')\n",
        "    plt.plot(t/P, xm/ab.to(u.m), label = f'Moon')\n",
        "    plt.legend()\n",
        "    plt.title(f'Orbital simulations for barycentre, planet and\\nmoon with starting angle for planet: {alphap[i].to(u.deg):.0f}')\n",
        "    plt.grid(True)\n",
        "    plt.xlabel('Time (years)')\n",
        "    plt.ylabel('Distance from line of sight (AU)')\n",
        "    plt.tight_layout()\n",
        "\n",
        "    # TEST TO SEE IF THE ANGLES ARE RANDOMISED\n",
        "    a = alphap[i]-alpham[i]\n",
        "    print(f'{a}')\n",
        "    '''\n",
        "  return angle, xb, xp, xm, wb, wp, wm, ab, alphap, alpham\n",
        "\n",
        "\n",
        "angle, xb, xp, xm, wb, wp, wm, ab, alphap, alpham = position(N)\n",
        "print('Done')"
      ],
      "metadata": {
        "id": "Gfyc2SGKTRyR",
        "outputId": "f62e6df9-2ca8-4a82-c879-7d1f1b4eebe9",
        "colab": {
          "base_uri": "https://localhost:8080/"
        }
      },
      "execution_count": 47,
      "outputs": [
        {
          "output_type": "stream",
          "name": "stdout",
          "text": [
            "Done\n"
          ]
        }
      ]
    },
    {
      "cell_type": "markdown",
      "source": [
        "#TTV calculations\n",
        "######Using the previous values of angles to calculate the TTVs for moon and planet"
      ],
      "metadata": {
        "id": "WPmVKHdWU_pD"
      }
    },
    {
      "cell_type": "code",
      "source": [
        "num_of_tran = 10 # NUMBER OF TRANSITS\n",
        "t = np.arange(0,num_of_tran*P.value,P.value)*P.unit # TIME\n",
        "\n",
        "ttvp = []\n",
        "ttvm = []\n",
        "for angles in angle:\n",
        "  # BARYCENTRE\n",
        "  alphab = wb*t\n",
        "  xb = ab*np.sin(alphab)\n",
        "  # PLANET\n",
        "  wp = 2*np.pi/moon_period *u.rad\n",
        "  alphap = wp*t + angles # USING THE ANGLE FROM THE PREVIOUS CELL\n",
        "  xp = dp * np.sin(alphap) + xb\n",
        "  # MOON\n",
        "  wm = 2*np.pi/moon_period *u.rad\n",
        "  alpham = wm*t + np.pi*u.rad + angles\n",
        "  xm = dm*np.sin(alpham) + xb\n",
        "\n",
        "\n",
        "  diffp = xb - xp\n",
        "  diffm = xb - xm\n",
        "\n",
        "  vb = (2*np.pi*ab)/P.to(u.s) # BARYCENTRE VELOCITY\n",
        "  #print(f'Velocity of system around star = {vb:.3f}')\n",
        "\n",
        "  ttvp.append(diffp/vb)\n",
        "  ttvm.append(diffm/vb)\n",
        "\n",
        "for i in range(N):\n",
        "  print(f'{(i+1)}/{N} - The first transit TTV for planet and moon:')\n",
        "  print(f'Planet TTV = {ttvp[i][0]:.3f}\\nMoon TTV = {ttvm[i][0]:.3f}')\n",
        "\n",
        "  plt.figure()\n",
        "  plt.scatter(t/P, ttvp[i].to(u.h), label = 'Planet TTV')\n",
        "  maxp = np.max(ttvp[i]).to(u.h)\n",
        "  minp = np.min(ttvp[i]).to(u.h)\n",
        "\n",
        "  plt.scatter(t/P, ttvm[i].to(u.h), label = 'Moon TTV')\n",
        "  maxm = np.max(ttvm[i]).to(u.h)\n",
        "  minm = np.min(ttvm[i]).to(u.h)\n",
        "\n",
        "  plt.axhline(y = maxp.value, linestyle = 'dashed', color = 'tab:blue')\n",
        "  plt.axhline(y = minp.value, linestyle = 'dashed', color = 'tab:blue')\n",
        "  plt.axhline(y = maxm.value, linestyle = 'dashed', color = 'tab:orange')\n",
        "  plt.axhline(y = minm.value, linestyle = 'dashed', color = 'tab:orange')\n",
        "\n",
        "  plt.title(f'TTVs for starting angle {angle[i].to(u.deg):.0f}')\n",
        "  plt.xlabel('Time (years)')\n",
        "  plt.ylabel('Time difference with barycentre (hours)')\n",
        "  plt.grid()\n",
        "  plt.legend()\n",
        "  plt.show()"
      ],
      "metadata": {
        "colab": {
          "base_uri": "https://localhost:8080/",
          "height": 1000
        },
        "id": "_6zpXjdZBD4P",
        "outputId": "996cdf16-e44d-465c-bb53-78f3e3d39bc9"
      },
      "execution_count": 81,
      "outputs": [
        {
          "output_type": "stream",
          "name": "stdout",
          "text": [
            "1/2 - The first transit TTV for planet and moon:\n",
            "Planet TTV = -94.567 s\n",
            "Moon TTV = 7688.409 s\n"
          ]
        },
        {
          "output_type": "display_data",
          "data": {
            "text/plain": [
              "<Figure size 640x480 with 1 Axes>"
            ],
            "image/png": "[encoded data removed]"
          },
          "metadata": {}
        },
        {
          "output_type": "stream",
          "name": "stdout",
          "text": [
            "2/2 - The first transit TTV for planet and moon:\n",
            "Planet TTV = 142.051 s\n",
            "Moon TTV = -11548.860 s\n"
          ]
        },
        {
          "output_type": "display_data",
          "data": {
            "text/plain": [
              "<Figure size 640x480 with 1 Axes>"
            ],
            "image/png": "[encoded data removed]"
          },
          "metadata": {}
        }
      ]
    },
    {
      "cell_type": "code",
      "source": [
        "for i in range(len(ttvp)):\n",
        "  print(f'TTV list for planets for {i} random starting angles:\\n{ttvp[i]}')\n",
        "  print(f'TTV list for moons for {i} random starting angles:\\n{ttvm[i]}\\n')"
      ],
      "metadata": {
        "colab": {
          "base_uri": "https://localhost:8080/"
        },
        "id": "6nUpTXHRq7Xa",
        "outputId": "8c2c9774-053c-418d-caba-826a349ea3f5"
      },
      "execution_count": 27,
      "outputs": [
        {
          "output_type": "stream",
          "name": "stdout",
          "text": [
            "TTV list for planets for 0 random starting angles:\n",
            "[  90.00694872 -155.44236634  120.44433034   -7.62555378 -110.12019809\n",
            "  156.71577343 -102.0551293   -18.54473935  127.16259652 -153.61894882] s\n",
            "TTV list for moons for 0 random starting angles:\n",
            "[ -7317.63810731  12637.59075905  -9792.22197923    619.9637223\n",
            "   8952.86163362 -12741.11979121   8297.16498379   1507.70238639\n",
            " -10338.42248098  12489.34543211] s\n",
            "\n",
            "TTV list for planets for 1 random starting angles:\n",
            "[ -65.41711834  149.17955166 -136.55502218   35.70041227   88.22072567\n",
            " -155.1412378   121.82285961   -9.79305411 -108.56417852  156.77660029] s\n",
            "TTV list for moons for 1 random starting angles:\n",
            "[  5318.46490577 -12128.41883416  11102.03432388  -2902.47254216\n",
            "  -7172.41672127  12613.10876414  -9904.29752952    796.18326127\n",
            "   8826.35597695 -12746.06506382] s\n",
            "\n"
          ]
        }
      ]
    },
    {
      "cell_type": "markdown",
      "source": [
        "#Light Curve Simulations"
      ],
      "metadata": {
        "id": "YEPVzHSyOfg3"
      }
    },
    {
      "cell_type": "code",
      "source": [
        "!pip install pytransit celerite emcee corner"
      ],
      "metadata": {
        "colab": {
          "base_uri": "https://localhost:8080/"
        },
        "collapsed": true,
        "id": "tdXcn52POe_B",
        "outputId": "f4584a06-838e-4e4f-d75c-0a150357c6eb"
      },
      "execution_count": 7,
      "outputs": [
        {
          "output_type": "stream",
          "name": "stdout",
          "text": [
            "Collecting pytransit\n",
            "  Downloading PyTransit-2.6.8-py3-none-any.whl.metadata (5.7 kB)\n",
            "Collecting celerite\n",
            "  Downloading celerite-0.4.3-cp310-cp310-manylinux_2_17_x86_64.manylinux2014_x86_64.whl.metadata (2.9 kB)\n",
            "Collecting emcee\n",
            "  Downloading emcee-3.1.6-py2.py3-none-any.whl.metadata (3.0 kB)\n",
            "Collecting corner\n",
            "  Downloading corner-2.2.2-py3-none-any.whl.metadata (2.2 kB)\n",
            "Requirement already satisfied: arviz in /usr/local/lib/python3.10/dist-packages (from pytransit) (0.19.0)\n",
            "Requirement already satisfied: numpy in /usr/local/lib/python3.10/dist-packages (from pytransit) (1.26.4)\n",
            "Requirement already satisfied: scipy in /usr/local/lib/python3.10/dist-packages (from pytransit) (1.13.1)\n",
            "Requirement already satisfied: pandas in /usr/local/lib/python3.10/dist-packages (from pytransit) (2.1.4)\n",
            "Requirement already satisfied: xarray in /usr/local/lib/python3.10/dist-packages (from pytransit) (2024.9.0)\n",
            "Requirement already satisfied: tables in /usr/local/lib/python3.10/dist-packages (from pytransit) (3.8.0)\n",
            "Collecting uncertainties (from pytransit)\n",
            "  Downloading uncertainties-3.2.2-py3-none-any.whl.metadata (6.9 kB)\n",
            "Requirement already satisfied: numba in /usr/local/lib/python3.10/dist-packages (from pytransit) (0.60.0)\n",
            "Requirement already satisfied: astropy in /usr/local/lib/python3.10/dist-packages (from pytransit) (6.1.3)\n",
            "Requirement already satisfied: matplotlib in /usr/local/lib/python3.10/dist-packages (from pytransit) (3.7.1)\n",
            "Requirement already satisfied: tqdm in /usr/local/lib/python3.10/dist-packages (from pytransit) (4.66.5)\n",
            "Collecting semantic-version (from pytransit)\n",
            "  Downloading semantic_version-2.10.0-py2.py3-none-any.whl.metadata (9.7 kB)\n",
            "Requirement already satisfied: setuptools in /usr/local/lib/python3.10/dist-packages (from pytransit) (71.0.4)\n",
            "Collecting deprecated (from pytransit)\n",
            "  Downloading Deprecated-1.2.14-py2.py3-none-any.whl.metadata (5.4 kB)\n",
            "Requirement already satisfied: seaborn in /usr/local/lib/python3.10/dist-packages (from pytransit) (0.13.1)\n",
            "Collecting ldtk (from pytransit)\n",
            "  Downloading ldtk-1.8.4-py3-none-any.whl.metadata (992 bytes)\n",
            "Collecting pyopencl (from pytransit)\n",
            "  Downloading pyopencl-2024.2.7-cp310-cp310-manylinux_2_17_x86_64.manylinux2014_x86_64.whl.metadata (4.7 kB)\n",
            "Collecting pyrr (from pytransit)\n",
            "  Downloading pyrr-0.10.3-py3-none-any.whl.metadata (832 bytes)\n",
            "Collecting meepmeep (from pytransit)\n",
            "  Downloading MeepMeep-0.6.3-py3-none-any.whl.metadata (714 bytes)\n",
            "Requirement already satisfied: contourpy>=1.0.1 in /usr/local/lib/python3.10/dist-packages (from matplotlib->pytransit) (1.3.0)\n",
            "Requirement already satisfied: cycler>=0.10 in /usr/local/lib/python3.10/dist-packages (from matplotlib->pytransit) (0.12.1)\n",
            "Requirement already satisfied: fonttools>=4.22.0 in /usr/local/lib/python3.10/dist-packages (from matplotlib->pytransit) (4.53.1)\n",
            "Requirement already satisfied: kiwisolver>=1.0.1 in /usr/local/lib/python3.10/dist-packages (from matplotlib->pytransit) (1.4.7)\n",
            "Requirement already satisfied: packaging>=20.0 in /usr/local/lib/python3.10/dist-packages (from matplotlib->pytransit) (24.1)\n",
            "Requirement already satisfied: pillow>=6.2.0 in /usr/local/lib/python3.10/dist-packages (from matplotlib->pytransit) (10.4.0)\n",
            "Requirement already satisfied: pyparsing>=2.3.1 in /usr/local/lib/python3.10/dist-packages (from matplotlib->pytransit) (3.1.4)\n",
            "Requirement already satisfied: python-dateutil>=2.7 in /usr/local/lib/python3.10/dist-packages (from matplotlib->pytransit) (2.8.2)\n",
            "Requirement already satisfied: dm-tree>=0.1.8 in /usr/local/lib/python3.10/dist-packages (from arviz->pytransit) (0.1.8)\n",
            "Requirement already satisfied: h5netcdf>=1.0.2 in /usr/local/lib/python3.10/dist-packages (from arviz->pytransit) (1.3.0)\n",
            "Requirement already satisfied: typing-extensions>=4.1.0 in /usr/local/lib/python3.10/dist-packages (from arviz->pytransit) (4.12.2)\n",
            "Requirement already satisfied: xarray-einstats>=0.3 in /usr/local/lib/python3.10/dist-packages (from arviz->pytransit) (0.7.0)\n",
            "Requirement already satisfied: pytz>=2020.1 in /usr/local/lib/python3.10/dist-packages (from pandas->pytransit) (2024.2)\n",
            "Requirement already satisfied: tzdata>=2022.1 in /usr/local/lib/python3.10/dist-packages (from pandas->pytransit) (2024.1)\n",
            "Requirement already satisfied: pyerfa>=2.0.1.1 in /usr/local/lib/python3.10/dist-packages (from astropy->pytransit) (2.0.1.4)\n",
            "Requirement already satisfied: astropy-iers-data>=0.2024.7.29.0.32.7 in /usr/local/lib/python3.10/dist-packages (from astropy->pytransit) (0.2024.9.16.0.32.21)\n",
            "Requirement already satisfied: PyYAML>=3.13 in /usr/local/lib/python3.10/dist-packages (from astropy->pytransit) (6.0.2)\n",
            "Requirement already satisfied: wrapt<2,>=1.10 in /usr/local/lib/python3.10/dist-packages (from deprecated->pytransit) (1.16.0)\n",
            "Requirement already satisfied: traitlets in /usr/local/lib/python3.10/dist-packages (from ldtk->pytransit) (5.7.1)\n",
            "Requirement already satisfied: tenacity in /usr/local/lib/python3.10/dist-packages (from ldtk->pytransit) (9.0.0)\n",
            "Requirement already satisfied: llvmlite<0.44,>=0.43.0dev0 in /usr/local/lib/python3.10/dist-packages (from numba->pytransit) (0.43.0)\n",
            "Requirement already satisfied: platformdirs>=2.2.0 in /usr/local/lib/python3.10/dist-packages (from pyopencl->pytransit) (4.3.6)\n",
            "Collecting pytools>=2024.1.5 (from pyopencl->pytransit)\n",
            "  Downloading pytools-2024.1.14-py3-none-any.whl.metadata (3.0 kB)\n",
            "Requirement already satisfied: multipledispatch in /usr/local/lib/python3.10/dist-packages (from pyrr->pytransit) (1.0.0)\n",
            "Requirement already satisfied: cython>=0.29.21 in /usr/local/lib/python3.10/dist-packages (from tables->pytransit) (3.0.11)\n",
            "Requirement already satisfied: numexpr>=2.6.2 in /usr/local/lib/python3.10/dist-packages (from tables->pytransit) (2.10.1)\n",
            "Requirement already satisfied: blosc2~=2.0.0 in /usr/local/lib/python3.10/dist-packages (from tables->pytransit) (2.0.0)\n",
            "Requirement already satisfied: py-cpuinfo in /usr/local/lib/python3.10/dist-packages (from tables->pytransit) (9.0.0)\n",
            "Requirement already satisfied: msgpack in /usr/local/lib/python3.10/dist-packages (from blosc2~=2.0.0->tables->pytransit) (1.0.8)\n",
            "Requirement already satisfied: h5py in /usr/local/lib/python3.10/dist-packages (from h5netcdf>=1.0.2->arviz->pytransit) (3.11.0)\n",
            "Requirement already satisfied: six>=1.5 in /usr/local/lib/python3.10/dist-packages (from python-dateutil>=2.7->matplotlib->pytransit) (1.16.0)\n",
            "Downloading PyTransit-2.6.8-py3-none-any.whl (10.9 MB)\n",
            "\u001b[2K   \u001b[90m━━━━━━━━━━━━━━━━━━━━━━━━━━━━━━━━━━━━━━━━\u001b[0m \u001b[32m10.9/10.9 MB\u001b[0m \u001b[31m14.4 MB/s\u001b[0m eta \u001b[36m0:00:00\u001b[0m\n",
            "\u001b[?25hDownloading celerite-0.4.3-cp310-cp310-manylinux_2_17_x86_64.manylinux2014_x86_64.whl (307 kB)\n",
            "\u001b[2K   \u001b[90m━━━━━━━━━━━━━━━━━━━━━━━━━━━━━━━━━━━━━━━━\u001b[0m \u001b[32m308.0/308.0 kB\u001b[0m \u001b[31m18.9 MB/s\u001b[0m eta \u001b[36m0:00:00\u001b[0m\n",
            "\u001b[?25hDownloading emcee-3.1.6-py2.py3-none-any.whl (47 kB)\n",
            "\u001b[2K   \u001b[90m━━━━━━━━━━━━━━━━━━━━━━━━━━━━━━━━━━━━━━━━\u001b[0m \u001b[32m47.4/47.4 kB\u001b[0m \u001b[31m3.0 MB/s\u001b[0m eta \u001b[36m0:00:00\u001b[0m\n",
            "\u001b[?25hDownloading corner-2.2.2-py3-none-any.whl (15 kB)\n",
            "Downloading Deprecated-1.2.14-py2.py3-none-any.whl (9.6 kB)\n",
            "Downloading ldtk-1.8.4-py3-none-any.whl (38 kB)\n",
            "Downloading MeepMeep-0.6.3-py3-none-any.whl (33 kB)\n",
            "Downloading pyopencl-2024.2.7-cp310-cp310-manylinux_2_17_x86_64.manylinux2014_x86_64.whl (698 kB)\n",
            "\u001b[2K   \u001b[90m━━━━━━━━━━━━━━━━━━━━━━━━━━━━━━━━━━━━━━━━\u001b[0m \u001b[32m698.1/698.1 kB\u001b[0m \u001b[31m32.0 MB/s\u001b[0m eta \u001b[36m0:00:00\u001b[0m\n",
            "\u001b[?25hDownloading pyrr-0.10.3-py3-none-any.whl (46 kB)\n",
            "\u001b[2K   \u001b[90m━━━━━━━━━━━━━━━━━━━━━━━━━━━━━━━━━━━━━━━━\u001b[0m \u001b[32m46.8/46.8 kB\u001b[0m \u001b[31m3.0 MB/s\u001b[0m eta \u001b[36m0:00:00\u001b[0m\n",
            "\u001b[?25hDownloading semantic_version-2.10.0-py2.py3-none-any.whl (15 kB)\n",
            "Downloading uncertainties-3.2.2-py3-none-any.whl (58 kB)\n",
            "\u001b[2K   \u001b[90m━━━━━━━━━━━━━━━━━━━━━━━━━━━━━━━━━━━━━━━━\u001b[0m \u001b[32m58.3/58.3 kB\u001b[0m \u001b[31m4.1 MB/s\u001b[0m eta \u001b[36m0:00:00\u001b[0m\n",
            "\u001b[?25hDownloading pytools-2024.1.14-py3-none-any.whl (89 kB)\n",
            "\u001b[2K   \u001b[90m━━━━━━━━━━━━━━━━━━━━━━━━━━━━━━━━━━━━━━━━\u001b[0m \u001b[32m89.9/89.9 kB\u001b[0m \u001b[31m6.5 MB/s\u001b[0m eta \u001b[36m0:00:00\u001b[0m\n",
            "\u001b[?25hInstalling collected packages: uncertainties, semantic-version, pytools, pyrr, emcee, deprecated, celerite, pyopencl, meepmeep, ldtk, corner, pytransit\n",
            "Successfully installed celerite-0.4.3 corner-2.2.2 deprecated-1.2.14 emcee-3.1.6 ldtk-1.8.4 meepmeep-0.6.3 pyopencl-2024.2.7 pyrr-0.10.3 pytools-2024.1.14 pytransit-2.6.8 semantic-version-2.10.0 uncertainties-3.2.2\n"
          ]
        }
      ]
    },
    {
      "cell_type": "code",
      "source": [
        "from pytransit import QuadraticModel\n",
        "from scipy.optimize import minimize"
      ],
      "metadata": {
        "colab": {
          "base_uri": "https://localhost:8080/"
        },
        "id": "a1TNd3KYO3Lu",
        "outputId": "ceb694ac-8c09-4aef-afc4-aa70423ed729"
      },
      "execution_count": 8,
      "outputs": [
        {
          "output_type": "stream",
          "name": "stderr",
          "text": [
            "/usr/local/lib/python3.10/dist-packages/pytools/persistent_dict.py:63: RecommendedHashNotFoundWarning: Unable to import recommended hash 'siphash24.siphash13', falling back to 'hashlib.sha256'. Run 'python3 -m pip install siphash24' to install the recommended hash.\n",
            "  warn(\"Unable to import recommended hash 'siphash24.siphash13', \"\n"
          ]
        }
      ]
    },
    {
      "cell_type": "code",
      "source": [
        "ttvp = np.array(ttvp)*u.s # USING THE FIRST TTV CALCULATIONS FROM THE FIRST RANDOM STARTING ANGLE\n",
        "ttvp = ttvp.to(u.day)\n",
        "ttvp"
      ],
      "metadata": {
        "colab": {
          "base_uri": "https://localhost:8080/",
          "height": 98
        },
        "id": "V55kMaBaO_gc",
        "outputId": "3055c790-b162-4ddd-9404-24b18273f923"
      },
      "execution_count": 36,
      "outputs": [
        {
          "output_type": "execute_result",
          "data": {
            "text/plain": [
              "<Quantity [[ 2.16368276e-28, -3.73668892e-28,  2.89536891e-28,\n",
              "            -1.83311172e-29, -2.64718644e-28,  3.76730043e-28,\n",
              "            -2.45330974e-28, -4.45798167e-29,  3.05686974e-28,\n",
              "            -3.69285567e-28],\n",
              "           [-1.57256626e-28,  3.58613672e-28, -3.28265485e-28,\n",
              "             8.58204478e-29,  2.12074363e-28, -3.72945007e-28,\n",
              "             2.92850746e-28, -2.35415850e-29, -2.60978118e-28,\n",
              "             3.76876265e-28]] d>"
            ],
            "text/latex": "$[[2.1636828 \\times 10^{-28},~-3.7366889 \\times 10^{-28},~2.8953689 \\times 10^{-28},~-1.8331117 \\times 10^{-29},~-2.6471864 \\times 10^{-28},~3.7673004 \\times 10^{-28},~-2.4533097 \\times 10^{-28},~-4.4579817 \\times 10^{-29},~3.0568697 \\times 10^{-28},~-3.6928557 \\times 10^{-28}],~\n [-1.5725663 \\times 10^{-28},~3.5861367 \\times 10^{-28},~-3.2826549 \\times 10^{-28},~8.5820448 \\times 10^{-29},~2.1207436 \\times 10^{-28},~-3.7294501 \\times 10^{-28},~2.9285075 \\times 10^{-28},~-2.3541585 \\times 10^{-29},~-2.6097812 \\times 10^{-28},~3.7687627 \\times 10^{-28}]] \\; \\mathrm{d}$"
          },
          "metadata": {},
          "execution_count": 36
        }
      ]
    },
    {
      "cell_type": "code",
      "source": [],
      "metadata": {
        "id": "dF1C2-zgQ7CO"
      },
      "execution_count": null,
      "outputs": []
    }
  ]
}